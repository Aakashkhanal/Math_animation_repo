{
 "cells": [
  {
   "cell_type": "code",
   "execution_count": 1,
   "id": "52e16bb3",
   "metadata": {},
   "outputs": [
    {
     "data": {
      "text/html": [
       "<pre style=\"white-space:pre;overflow-x:auto;line-height:normal;font-family:Menlo,'DejaVu Sans Mono',consolas,'Courier New',monospace\">Manim Community <span style=\"color: #008000; text-decoration-color: #008000\">v0.18.0</span>\n",
       "\n",
       "</pre>\n"
      ],
      "text/plain": [
       "Manim Community \u001b[32mv0.\u001b[0m\u001b[32m18.0\u001b[0m\n",
       "\n"
      ]
     },
     "metadata": {},
     "output_type": "display_data"
    }
   ],
   "source": [
    "from manim import *"
   ]
  },
  {
   "cell_type": "code",
   "execution_count": 17,
   "id": "c3866d50",
   "metadata": {},
   "outputs": [
    {
     "name": "stderr",
     "output_type": "stream",
     "text": [
      "                                                                                                                     \r"
     ]
    },
    {
     "data": {
      "text/html": [
       "<video src=\"media/jupyter/LimitOfXOverX@2025-04-11@12-30-51.mp4\" controls autoplay loop style=\"max-width: 60%;\"  >\n",
       "      Your browser does not support the <code>video</code> element.\n",
       "    </video>"
      ],
      "text/plain": [
       "<IPython.core.display.Video object>"
      ]
     },
     "metadata": {},
     "output_type": "display_data"
    }
   ],
   "source": [
    "%%manim -v WARNING -qm LimitOfXOverX\n",
    "\n",
    "\n",
    "class LimitOfXOverX(Scene):\n",
    "    def construct(self):\n",
    "        # Axes setup\n",
    "        axes = Axes(\n",
    "            x_range=[-4, 4, 1],\n",
    "            y_range=[0, 2, 0.5],\n",
    "            x_length=8,\n",
    "            y_length=4,\n",
    "            axis_config={\"include_tip\": True}\n",
    "        )\n",
    "\n",
    "        # Function: f(x) = x/x (excluding 0)\n",
    "        def x_over_x(x):\n",
    "            return 1 if x != 0 else None\n",
    "\n",
    "        # Plot excluding x=0\n",
    "        graph = axes.plot(lambda x: x_over_x(x), color=BLUE, x_range=[-4, -0.1])\n",
    "        graph2 = axes.plot(lambda x: x_over_x(x), color=BLUE, x_range=[0.1, 4])\n",
    "\n",
    "        # Hole at x=0\n",
    "        hole = Dot(axes.c2p(0, 1), color=RED)\n",
    "\n",
    "        # Labels and titles\n",
    "        title = Text(\"Limit of f(x) = x/x as x → 0\", font_size=36).to_edge(UP)\n",
    "        func_label = MathTex(r\"f(x) = \\frac{x}{x}, \\quad x \\ne 0\").next_to(graph2, UP)\n",
    "        limit_text = MathTex(r\"\\lim_{x \\to 0} \\frac{x}{x} = 1\").to_edge(DOWN)\n",
    "\n",
    "        # Build the animation\n",
    "        self.play(Write(title))\n",
    "        self.play(Create(axes))\n",
    "        self.play(Create(graph), Create(graph2))\n",
    "        self.play(FadeIn(hole), run_time=1)\n",
    "        self.play(Write(func_label))\n",
    "        self.wait(1)\n",
    "\n",
    "        # Emphasize the hole\n",
    "        self.play(hole.animate.scale(1.5).set_color(YELLOW))\n",
    "        self.wait(1)\n",
    "\n",
    "        # Show the limit conclusion\n",
    "        self.play(Write(limit_text))\n",
    "        self.wait(2)\n"
   ]
  },
  {
   "cell_type": "code",
   "execution_count": 58,
   "id": "17a694a7",
   "metadata": {},
   "outputs": [
    {
     "data": {
      "text/html": [
       "<pre style=\"white-space:pre;overflow-x:auto;line-height:normal;font-family:Menlo,'DejaVu Sans Mono',consolas,'Courier New',monospace\"><span style=\"color: #7fbfbf; text-decoration-color: #7fbfbf\">[10/11/25 10:46:04] </span><span style=\"color: #800000; text-decoration-color: #800000\">WARNING </span> --save_as_gif is deprecated, please use --<span style=\"color: #808000; text-decoration-color: #808000\">format</span>=<span style=\"color: #800080; text-decoration-color: #800080\">gif</span> instead!           <a href=\"file:///Users/aakashkhanal/anaconda3/lib/python3.11/site-packages/manim/cli/render/commands.py\" target=\"_blank\"><span style=\"color: #7f7f7f; text-decoration-color: #7f7f7f\">commands.py</span></a><span style=\"color: #7f7f7f; text-decoration-color: #7f7f7f\">:</span><a href=\"file:///Users/aakashkhanal/anaconda3/lib/python3.11/site-packages/manim/cli/render/commands.py#50\" target=\"_blank\"><span style=\"color: #7f7f7f; text-decoration-color: #7f7f7f\">50</span></a>\n",
       "</pre>\n"
      ],
      "text/plain": [
       "\u001b[2;36m[10/11/25 10:46:04]\u001b[0m\u001b[2;36m \u001b[0m\u001b[31mWARNING \u001b[0m --save_as_gif is deprecated, please use --\u001b[33mformat\u001b[0m=\u001b[35mgif\u001b[0m instead!           \u001b]8;id=967830;file:///Users/aakashkhanal/anaconda3/lib/python3.11/site-packages/manim/cli/render/commands.py\u001b\\\u001b[2mcommands.py\u001b[0m\u001b]8;;\u001b\\\u001b[2m:\u001b[0m\u001b]8;id=708241;file:///Users/aakashkhanal/anaconda3/lib/python3.11/site-packages/manim/cli/render/commands.py#50\u001b\\\u001b[2m50\u001b[0m\u001b]8;;\u001b\\\n"
      ]
     },
     "metadata": {},
     "output_type": "display_data"
    },
    {
     "name": "stderr",
     "output_type": "stream",
     "text": [
      "                                                                                                                                     \r"
     ]
    },
    {
     "ename": "AttributeError",
     "evalue": "'numpy.ndarray' object has no attribute 'get_num_points'",
     "output_type": "error",
     "traceback": [
      "\u001b[0;31m---------------------------------------------------------------------------\u001b[0m",
      "\u001b[0;31mAttributeError\u001b[0m                            Traceback (most recent call last)",
      "Cell \u001b[0;32mIn[58], line 1\u001b[0m\n\u001b[0;32m----> 1\u001b[0m get_ipython()\u001b[38;5;241m.\u001b[39mrun_cell_magic(\u001b[38;5;124m'\u001b[39m\u001b[38;5;124mmanim\u001b[39m\u001b[38;5;124m'\u001b[39m, \u001b[38;5;124m'\u001b[39m\u001b[38;5;124m-v WARNING -ql -i CurveSketching\u001b[39m\u001b[38;5;124m'\u001b[39m, \u001b[38;5;124m'\u001b[39m\u001b[38;5;130;01m\\n\u001b[39;00m\u001b[38;5;124mclass CurveSketching(Scene):\u001b[39m\u001b[38;5;130;01m\\n\u001b[39;00m\u001b[38;5;124m    def construct(self):\u001b[39m\u001b[38;5;130;01m\\n\u001b[39;00m\u001b[38;5;124m        # Divide the screen visually: left for text, right for graph\u001b[39m\u001b[38;5;130;01m\\n\u001b[39;00m\u001b[38;5;124m        left_text_area = Rectangle(width=5.5, height=6, color=GREY, fill_opacity=0).to_edge(LEFT)\u001b[39m\u001b[38;5;130;01m\\n\u001b[39;00m\u001b[38;5;124m        right_graph_area = Rectangle(width=5.5, height=6, color=GREY, fill_opacity=0).to_edge(RIGHT)\u001b[39m\u001b[38;5;130;01m\\n\u001b[39;00m\u001b[38;5;124m        # Uncomment next lines if you want to see the separation visually\u001b[39m\u001b[38;5;130;01m\\n\u001b[39;00m\u001b[38;5;124m        # self.add(left_text_area, right_graph_area)\u001b[39m\u001b[38;5;130;01m\\n\u001b[39;00m\u001b[38;5;130;01m\\n\u001b[39;00m\u001b[38;5;124m        # Axes for y = x^2 graph (shifted to the right)\u001b[39m\u001b[38;5;130;01m\\n\u001b[39;00m\u001b[38;5;124m        axes = Axes(\u001b[39m\u001b[38;5;130;01m\\n\u001b[39;00m\u001b[38;5;124m            x_range=[-7, 7, 1],\u001b[39m\u001b[38;5;130;01m\\n\u001b[39;00m\u001b[38;5;124m            y_range=[-7, 7, 1],\u001b[39m\u001b[38;5;130;01m\\n\u001b[39;00m\u001b[38;5;124m            x_length=5,\u001b[39m\u001b[38;5;130;01m\\n\u001b[39;00m\u001b[38;5;124m            y_length=4,\u001b[39m\u001b[38;5;130;01m\\n\u001b[39;00m\u001b[38;5;124m            axis_config=\u001b[39m\u001b[38;5;124m{\u001b[39m\u001b[38;5;124m\"\u001b[39m\u001b[38;5;124mcolor\u001b[39m\u001b[38;5;124m\"\u001b[39m\u001b[38;5;124m: WHITE},\u001b[39m\u001b[38;5;130;01m\\n\u001b[39;00m\u001b[38;5;124m            tips=False\u001b[39m\u001b[38;5;130;01m\\n\u001b[39;00m\u001b[38;5;124m        ).to_edge(RIGHT).shift(LEFT * 0.5)\u001b[39m\u001b[38;5;130;01m\\n\u001b[39;00m\u001b[38;5;124m############################################################################################################################################################################################\u001b[39m\u001b[38;5;130;01m\\n\u001b[39;00m\u001b[38;5;130;01m\\n\u001b[39;00m\u001b[38;5;130;01m\\n\u001b[39;00m\u001b[38;5;124m        # Define the function y = x^2\u001b[39m\u001b[38;5;130;01m\\n\u001b[39;00m\u001b[38;5;124m        graph = axes.plot(lambda x: x**2, color=YELLOW)\u001b[39m\u001b[38;5;130;01m\\n\u001b[39;00m\u001b[38;5;124m        graph_label = axes.get_graph_label(graph, label=\u001b[39m\u001b[38;5;124m\"\u001b[39m\u001b[38;5;124my = x^2\u001b[39m\u001b[38;5;124m\"\u001b[39m\u001b[38;5;124m, x_val=2.2, direction=UR)\u001b[39m\u001b[38;5;130;01m\\n\u001b[39;00m\u001b[38;5;130;01m\\n\u001b[39;00m\u001b[38;5;124m        # STEP 1: Title and introduction text\u001b[39m\u001b[38;5;130;01m\\n\u001b[39;00m\u001b[38;5;124m        step1 = Text(\u001b[39m\u001b[38;5;124m\"\u001b[39m\u001b[38;5;124mStep 1: Understand the function\u001b[39m\u001b[38;5;124m\"\u001b[39m\u001b[38;5;124m, font_size=32, color=BLUE).to_edge(LEFT).shift(UP * 2)\u001b[39m\u001b[38;5;130;01m\\n\u001b[39;00m\u001b[38;5;124m        expl1 = Text(\u001b[39m\u001b[38;5;124m\"\u001b[39m\u001b[38;5;124mThe function y = x² is of degree two \u001b[39m\u001b[38;5;130;01m\\\\\u001b[39;00m\u001b[38;5;124mnso it represents a parabola\u001b[39m\u001b[38;5;124m\"\u001b[39m\u001b[38;5;124m, font_size=28).next_to(step1, DOWN, aligned_edge=LEFT)\u001b[39m\u001b[38;5;130;01m\\n\u001b[39;00m\u001b[38;5;130;01m\\n\u001b[39;00m\u001b[38;5;124m        self.play(Write(step1))\u001b[39m\u001b[38;5;130;01m\\n\u001b[39;00m\u001b[38;5;124m        self.play(Write(expl1))\u001b[39m\u001b[38;5;130;01m\\n\u001b[39;00m\u001b[38;5;124m        self.wait(2)\u001b[39m\u001b[38;5;130;01m\\n\u001b[39;00m\u001b[38;5;130;01m\\n\u001b[39;00m\u001b[38;5;124m        # Draw axes show graph of parabola could be among these.\u001b[39m\u001b[38;5;130;01m\\n\u001b[39;00m\u001b[38;5;124m        step2 = Text(\u001b[39m\u001b[38;5;124m\"\u001b[39m\u001b[38;5;124mparabola could be among these\u001b[39m\u001b[38;5;124m\"\u001b[39m\u001b[38;5;124m, font_size=28).next_to(expl1, DOWN, buff=0.8, aligned_edge=LEFT)\u001b[39m\u001b[38;5;130;01m\\n\u001b[39;00m\u001b[38;5;124m        self.play(Write(step2))\u001b[39m\u001b[38;5;130;01m\\n\u001b[39;00m\u001b[38;5;124m        self.play(Create(axes))\u001b[39m\u001b[38;5;130;01m\\n\u001b[39;00m\u001b[38;5;124m        self.play(Create(graph), run_time=3)\u001b[39m\u001b[38;5;130;01m\\n\u001b[39;00m\u001b[38;5;124m        self.play(Write(graph_label))\u001b[39m\u001b[38;5;130;01m\\n\u001b[39;00m\u001b[38;5;124m        # Shift the curve right by 1 unit and up by 2 units within the axes coordinate system\u001b[39m\u001b[38;5;130;01m\\n\u001b[39;00m\u001b[38;5;124m        shift_vector = axes.c2p(1, 2) - axes.c2p(0, 0)\u001b[39m\u001b[38;5;130;01m\\n\u001b[39;00m\u001b[38;5;124m        self.play(graph.animate.shift(shift_vector))\u001b[39m\u001b[38;5;130;01m\\n\u001b[39;00m\u001b[38;5;130;01m\\n\u001b[39;00m\u001b[38;5;124m        shift_vector = axes.c2p(-3, -4) - axes.c2p(1, 2)\u001b[39m\u001b[38;5;130;01m\\n\u001b[39;00m\u001b[38;5;124m        self.play(graph.animate.shift(shift_vector))\u001b[39m\u001b[38;5;130;01m\\n\u001b[39;00m\u001b[38;5;130;01m\\n\u001b[39;00m\u001b[38;5;124m        shift_vector = axes.c2p(-3, 5) - axes.c2p(-3, -4)\u001b[39m\u001b[38;5;130;01m\\n\u001b[39;00m\u001b[38;5;124m        self.play(graph.animate.shift(shift_vector))\u001b[39m\u001b[38;5;130;01m\\n\u001b[39;00m\u001b[38;5;130;01m\\n\u001b[39;00m\u001b[38;5;124m        shift_vector = axes.c2p(2, -2) - axes.c2p(-3, 5)\u001b[39m\u001b[38;5;130;01m\\n\u001b[39;00m\u001b[38;5;124m        self.play(graph.animate.shift(shift_vector))\u001b[39m\u001b[38;5;130;01m\\n\u001b[39;00m\u001b[38;5;130;01m\\n\u001b[39;00m\u001b[38;5;124m   \u001b[39m\u001b[38;5;130;01m\\n\u001b[39;00m\u001b[38;5;130;01m\\n\u001b[39;00m\u001b[38;5;124m        # Stretch horizontally(making wider) and rotate around point (2,-2)\u001b[39m\u001b[38;5;130;01m\\n\u001b[39;00m\u001b[38;5;124m        self.play(graph.animate.stretch(2, dim=0))  # dim=0 means x-direction\u001b[39m\u001b[38;5;130;01m\\n\u001b[39;00m\u001b[38;5;124m        self.play(graph.animate.rotate(PI, about_point=axes.c2p(2,-2)), run_time=3)\u001b[39m\u001b[38;5;130;01m\\n\u001b[39;00m\u001b[38;5;130;01m\\n\u001b[39;00m\u001b[38;5;124m        shift_vector = axes.c2p(0, 0) - axes.c2p(2, -2)\u001b[39m\u001b[38;5;130;01m\\n\u001b[39;00m\u001b[38;5;124m        self.play(graph.animate.shift(shift_vector))\u001b[39m\u001b[38;5;130;01m\\n\u001b[39;00m\u001b[38;5;130;01m\\n\u001b[39;00m\u001b[38;5;130;01m\\n\u001b[39;00m\u001b[38;5;130;01m\\n\u001b[39;00m\u001b[38;5;124m        # Rotate around the origin of the AXES (not the screen)\u001b[39m\u001b[38;5;130;01m\\n\u001b[39;00m\u001b[38;5;124m        self.play(graph.animate.rotate(PI/2, about_point=axes.c2p(0, 0)), run_time=2)\u001b[39m\u001b[38;5;130;01m\\n\u001b[39;00m\u001b[38;5;130;01m\\n\u001b[39;00m\u001b[38;5;124m        # Vertical line at x = 2, extend far above and below\u001b[39m\u001b[38;5;130;01m\\n\u001b[39;00m\u001b[38;5;124m        x_val = 2\u001b[39m\u001b[38;5;130;01m\\n\u001b[39;00m\u001b[38;5;124m        vertical_line = Line(\u001b[39m\u001b[38;5;130;01m\\n\u001b[39;00m\u001b[38;5;124m            start=axes.c2p(x_val, -1000),  # very low y\u001b[39m\u001b[38;5;130;01m\\n\u001b[39;00m\u001b[38;5;124m            end=axes.c2p(x_val, 1000),     # very high y\u001b[39m\u001b[38;5;130;01m\\n\u001b[39;00m\u001b[38;5;124m            color=BLUE\u001b[39m\u001b[38;5;130;01m\\n\u001b[39;00m\u001b[38;5;124m        )\u001b[39m\u001b[38;5;130;01m\\n\u001b[39;00m\u001b[38;5;130;01m\\n\u001b[39;00m\u001b[38;5;130;01m\\n\u001b[39;00m\u001b[38;5;124m        # Draw the vertical line\u001b[39m\u001b[38;5;130;01m\\n\u001b[39;00m\u001b[38;5;124m        self.play(Create(vertical_line))\u001b[39m\u001b[38;5;130;01m\\n\u001b[39;00m\u001b[38;5;130;01m\\n\u001b[39;00m\u001b[38;5;124m        # Intersection point\u001b[39m\u001b[38;5;130;01m\\n\u001b[39;00m\u001b[38;5;124m        x_int, y_int = 2, 2**2\u001b[39m\u001b[38;5;130;01m\\n\u001b[39;00m\u001b[38;5;124m        intersection_point = axes.c2p(x_int, y_int)\u001b[39m\u001b[38;5;130;01m\\n\u001b[39;00m\u001b[38;5;130;01m\\n\u001b[39;00m\u001b[38;5;124m        # Draw a cross at intersection\u001b[39m\u001b[38;5;130;01m\\n\u001b[39;00m\u001b[38;5;124m        cross = Cross(intersection_point, color=RED, stroke_width=4)\u001b[39m\u001b[38;5;130;01m\\n\u001b[39;00m\u001b[38;5;124m        self.play(Create(cross))\u001b[39m\u001b[38;5;130;01m\\n\u001b[39;00m\u001b[38;5;124m        self.wait(2)\u001b[39m\u001b[38;5;130;01m\\n\u001b[39;00m\u001b[38;5;130;01m\\n\u001b[39;00m\u001b[38;5;124m      \u001b[39m\u001b[38;5;130;01m\\n\u001b[39;00m\u001b[38;5;130;01m\\n\u001b[39;00m\u001b[38;5;124m     \u001b[39m\u001b[38;5;130;01m\\n\u001b[39;00m\u001b[38;5;130;01m\\n\u001b[39;00m\u001b[38;5;124m        # # STEP 3: Plot some key points\u001b[39m\u001b[38;5;130;01m\\n\u001b[39;00m\u001b[38;5;124m        # step3 = Text(\u001b[39m\u001b[38;5;124m\"\u001b[39m\u001b[38;5;124mStep 3: Mark some points\u001b[39m\u001b[38;5;124m\"\u001b[39m\u001b[38;5;124m, font_size=32, color=BLUE).next_to(step2, DOWN, buff=0.8, aligned_edge=LEFT)\u001b[39m\u001b[38;5;130;01m\\n\u001b[39;00m\u001b[38;5;124m        # expl3 = Text(\u001b[39m\u001b[38;5;124m\"\u001b[39m\u001b[38;5;124mFor x = -2, -1, 0, 1, 2,\u001b[39m\u001b[38;5;130;01m\\\\\u001b[39;00m\u001b[38;5;124mnwe get y = 4, 1, 0, 1, 4.\u001b[39m\u001b[38;5;124m\"\u001b[39m\u001b[38;5;124m, font_size=28).next_to(step3, DOWN, aligned_edge=LEFT)\u001b[39m\u001b[38;5;130;01m\\n\u001b[39;00m\u001b[38;5;124m        # self.play(Write(step3))\u001b[39m\u001b[38;5;130;01m\\n\u001b[39;00m\u001b[38;5;124m        # self.play(Write(expl3))\u001b[39m\u001b[38;5;130;01m\\n\u001b[39;00m\u001b[38;5;124m        # self.wait(1)\u001b[39m\u001b[38;5;130;01m\\n\u001b[39;00m\u001b[38;5;130;01m\\n\u001b[39;00m\u001b[38;5;124m        # # Mark key points on the curve\u001b[39m\u001b[38;5;130;01m\\n\u001b[39;00m\u001b[38;5;124m        # points = [axes.coords_to_point(x, x**2) for x in [-2, -1, 0, 1, 2]]\u001b[39m\u001b[38;5;130;01m\\n\u001b[39;00m\u001b[38;5;124m        # dots = VGroup(*[Dot(p, color=RED) for p in points])\u001b[39m\u001b[38;5;130;01m\\n\u001b[39;00m\u001b[38;5;124m        # self.play(LaggedStart(*[GrowFromCenter(dot) for dot in dots], lag_ratio=0.2))\u001b[39m\u001b[38;5;130;01m\\n\u001b[39;00m\u001b[38;5;124m        # self.wait(1)\u001b[39m\u001b[38;5;130;01m\\n\u001b[39;00m\u001b[38;5;130;01m\\n\u001b[39;00m\u001b[38;5;124m        # # STEP 4: Connect the dots with a smooth curve\u001b[39m\u001b[38;5;130;01m\\n\u001b[39;00m\u001b[38;5;124m        # step4 = Text(\u001b[39m\u001b[38;5;124m\"\u001b[39m\u001b[38;5;124mStep 4: Connect the points smoothly\u001b[39m\u001b[38;5;124m\"\u001b[39m\u001b[38;5;124m, font_size=32, color=BLUE).next_to(expl3, DOWN, buff=0.8, aligned_edge=LEFT)\u001b[39m\u001b[38;5;130;01m\\n\u001b[39;00m\u001b[38;5;124m        # self.play(Write(step4))\u001b[39m\u001b[38;5;130;01m\\n\u001b[39;00m\u001b[38;5;124m        # self.play(Create(graph), run_time=3)\u001b[39m\u001b[38;5;130;01m\\n\u001b[39;00m\u001b[38;5;124m        # self.wait(1)\u001b[39m\u001b[38;5;130;01m\\n\u001b[39;00m\u001b[38;5;130;01m\\n\u001b[39;00m\u001b[38;5;124m        # # STEP 5: Label the curve\u001b[39m\u001b[38;5;130;01m\\n\u001b[39;00m\u001b[38;5;124m        # step5 = Text(\u001b[39m\u001b[38;5;124m\"\u001b[39m\u001b[38;5;124mStep 5: Label your graph\u001b[39m\u001b[38;5;124m\"\u001b[39m\u001b[38;5;124m, font_size=32, color=BLUE).next_to(step4, DOWN, buff=0.8, aligned_edge=LEFT)\u001b[39m\u001b[38;5;130;01m\\n\u001b[39;00m\u001b[38;5;124m        # self.play(Write(step5))\u001b[39m\u001b[38;5;130;01m\\n\u001b[39;00m\u001b[38;5;124m        # self.play(Write(graph_label))\u001b[39m\u001b[38;5;130;01m\\n\u001b[39;00m\u001b[38;5;124m        # self.wait(2)\u001b[39m\u001b[38;5;130;01m\\n\u001b[39;00m\u001b[38;5;130;01m\\n\u001b[39;00m\u001b[38;5;124m        # # End note\u001b[39m\u001b[38;5;130;01m\\n\u001b[39;00m\u001b[38;5;124m        # end_text = Text(\u001b[39m\u001b[38;5;124m\"\u001b[39m\u001b[38;5;124mThat\u001b[39m\u001b[38;5;130;01m\\'\u001b[39;00m\u001b[38;5;124ms how you sketch y = x²!\u001b[39m\u001b[38;5;124m\"\u001b[39m\u001b[38;5;124m, font_size=36, color=YELLOW).to_edge(LEFT).shift(DOWN * 2.5)\u001b[39m\u001b[38;5;130;01m\\n\u001b[39;00m\u001b[38;5;124m        # self.play(Write(end_text))\u001b[39m\u001b[38;5;130;01m\\n\u001b[39;00m\u001b[38;5;124m        # self.wait(3)\u001b[39m\u001b[38;5;130;01m\\n\u001b[39;00m\u001b[38;5;124m'\u001b[39m)\n",
      "File \u001b[0;32m~/anaconda3/lib/python3.11/site-packages/IPython/core/interactiveshell.py:2493\u001b[0m, in \u001b[0;36mInteractiveShell.run_cell_magic\u001b[0;34m(self, magic_name, line, cell)\u001b[0m\n\u001b[1;32m   2491\u001b[0m \u001b[38;5;28;01mwith\u001b[39;00m \u001b[38;5;28mself\u001b[39m\u001b[38;5;241m.\u001b[39mbuiltin_trap:\n\u001b[1;32m   2492\u001b[0m     args \u001b[38;5;241m=\u001b[39m (magic_arg_s, cell)\n\u001b[0;32m-> 2493\u001b[0m     result \u001b[38;5;241m=\u001b[39m fn(\u001b[38;5;241m*\u001b[39margs, \u001b[38;5;241m*\u001b[39m\u001b[38;5;241m*\u001b[39mkwargs)\n\u001b[1;32m   2495\u001b[0m \u001b[38;5;66;03m# The code below prevents the output from being displayed\u001b[39;00m\n\u001b[1;32m   2496\u001b[0m \u001b[38;5;66;03m# when using magics with decorator @output_can_be_silenced\u001b[39;00m\n\u001b[1;32m   2497\u001b[0m \u001b[38;5;66;03m# when the last Python token in the expression is a ';'.\u001b[39;00m\n\u001b[1;32m   2498\u001b[0m \u001b[38;5;28;01mif\u001b[39;00m \u001b[38;5;28mgetattr\u001b[39m(fn, magic\u001b[38;5;241m.\u001b[39mMAGIC_OUTPUT_CAN_BE_SILENCED, \u001b[38;5;28;01mFalse\u001b[39;00m):\n",
      "File \u001b[0;32m~/anaconda3/lib/python3.11/site-packages/manim/utils/ipython_magic.py:141\u001b[0m, in \u001b[0;36mManimMagic.manim\u001b[0;34m(self, line, cell, local_ns)\u001b[0m\n\u001b[1;32m    139\u001b[0m     SceneClass \u001b[38;5;241m=\u001b[39m local_ns[config[\u001b[38;5;124m\"\u001b[39m\u001b[38;5;124mscene_names\u001b[39m\u001b[38;5;124m\"\u001b[39m][\u001b[38;5;241m0\u001b[39m]]\n\u001b[1;32m    140\u001b[0m     scene \u001b[38;5;241m=\u001b[39m SceneClass(renderer\u001b[38;5;241m=\u001b[39mrenderer)\n\u001b[0;32m--> 141\u001b[0m     scene\u001b[38;5;241m.\u001b[39mrender()\n\u001b[1;32m    142\u001b[0m \u001b[38;5;28;01mfinally\u001b[39;00m:\n\u001b[1;32m    143\u001b[0m     \u001b[38;5;66;03m# Shader cache becomes invalid as the context is destroyed\u001b[39;00m\n\u001b[1;32m    144\u001b[0m     shader_program_cache\u001b[38;5;241m.\u001b[39mclear()\n",
      "File \u001b[0;32m~/anaconda3/lib/python3.11/site-packages/manim/scene/scene.py:223\u001b[0m, in \u001b[0;36mScene.render\u001b[0;34m(self, preview)\u001b[0m\n\u001b[1;32m    221\u001b[0m \u001b[38;5;28mself\u001b[39m\u001b[38;5;241m.\u001b[39msetup()\n\u001b[1;32m    222\u001b[0m \u001b[38;5;28;01mtry\u001b[39;00m:\n\u001b[0;32m--> 223\u001b[0m     \u001b[38;5;28mself\u001b[39m\u001b[38;5;241m.\u001b[39mconstruct()\n\u001b[1;32m    224\u001b[0m \u001b[38;5;28;01mexcept\u001b[39;00m EndSceneEarlyException:\n\u001b[1;32m    225\u001b[0m     \u001b[38;5;28;01mpass\u001b[39;00m\n",
      "File \u001b[0;32m<string>:84\u001b[0m, in \u001b[0;36mconstruct\u001b[0;34m(self)\u001b[0m\n",
      "File \u001b[0;32m~/anaconda3/lib/python3.11/site-packages/manim/mobject/geometry/shape_matchers.py:173\u001b[0m, in \u001b[0;36mCross.__init__\u001b[0;34m(self, mobject, stroke_color, stroke_width, scale_factor, **kwargs)\u001b[0m\n\u001b[1;32m    169\u001b[0m \u001b[38;5;28msuper\u001b[39m()\u001b[38;5;241m.\u001b[39m\u001b[38;5;21m__init__\u001b[39m(\n\u001b[1;32m    170\u001b[0m     Line(UP \u001b[38;5;241m+\u001b[39m LEFT, DOWN \u001b[38;5;241m+\u001b[39m RIGHT), Line(UP \u001b[38;5;241m+\u001b[39m RIGHT, DOWN \u001b[38;5;241m+\u001b[39m LEFT), \u001b[38;5;241m*\u001b[39m\u001b[38;5;241m*\u001b[39mkwargs\n\u001b[1;32m    171\u001b[0m )\n\u001b[1;32m    172\u001b[0m \u001b[38;5;28;01mif\u001b[39;00m mobject \u001b[38;5;129;01mis\u001b[39;00m \u001b[38;5;129;01mnot\u001b[39;00m \u001b[38;5;28;01mNone\u001b[39;00m:\n\u001b[0;32m--> 173\u001b[0m     \u001b[38;5;28mself\u001b[39m\u001b[38;5;241m.\u001b[39mreplace(mobject, stretch\u001b[38;5;241m=\u001b[39m\u001b[38;5;28;01mTrue\u001b[39;00m)\n\u001b[1;32m    174\u001b[0m \u001b[38;5;28mself\u001b[39m\u001b[38;5;241m.\u001b[39mscale(scale_factor)\n\u001b[1;32m    175\u001b[0m \u001b[38;5;28mself\u001b[39m\u001b[38;5;241m.\u001b[39mset_stroke(color\u001b[38;5;241m=\u001b[39mstroke_color, width\u001b[38;5;241m=\u001b[39mstroke_width)\n",
      "File \u001b[0;32m~/anaconda3/lib/python3.11/site-packages/manim/mobject/mobject.py:1676\u001b[0m, in \u001b[0;36mMobject.replace\u001b[0;34m(self, mobject, dim_to_match, stretch)\u001b[0m\n\u001b[1;32m   1673\u001b[0m \u001b[38;5;28;01mdef\u001b[39;00m \u001b[38;5;21mreplace\u001b[39m(\n\u001b[1;32m   1674\u001b[0m     \u001b[38;5;28mself\u001b[39m, mobject: Mobject, dim_to_match: \u001b[38;5;28mint\u001b[39m \u001b[38;5;241m=\u001b[39m \u001b[38;5;241m0\u001b[39m, stretch: \u001b[38;5;28mbool\u001b[39m \u001b[38;5;241m=\u001b[39m \u001b[38;5;28;01mFalse\u001b[39;00m\n\u001b[1;32m   1675\u001b[0m ) \u001b[38;5;241m-\u001b[39m\u001b[38;5;241m>\u001b[39m Self:\n\u001b[0;32m-> 1676\u001b[0m     \u001b[38;5;28;01mif\u001b[39;00m \u001b[38;5;129;01mnot\u001b[39;00m mobject\u001b[38;5;241m.\u001b[39mget_num_points() \u001b[38;5;129;01mand\u001b[39;00m \u001b[38;5;129;01mnot\u001b[39;00m mobject\u001b[38;5;241m.\u001b[39msubmobjects:\n\u001b[1;32m   1677\u001b[0m         \u001b[38;5;28;01mraise\u001b[39;00m \u001b[38;5;167;01mWarning\u001b[39;00m(\u001b[38;5;124m\"\u001b[39m\u001b[38;5;124mAttempting to replace mobject with no points\u001b[39m\u001b[38;5;124m\"\u001b[39m)\n\u001b[1;32m   1678\u001b[0m     \u001b[38;5;28;01mif\u001b[39;00m stretch:\n",
      "\u001b[0;31mAttributeError\u001b[0m: 'numpy.ndarray' object has no attribute 'get_num_points'"
     ]
    }
   ],
   "source": [
    "%%manim -v WARNING -ql -i CurveSketching\n",
    "\n",
    "class CurveSketching(Scene):\n",
    "    def construct(self):\n",
    "        # Divide the screen visually: left for text, right for graph\n",
    "        left_text_area = Rectangle(width=5.5, height=6, color=GREY, fill_opacity=0).to_edge(LEFT)\n",
    "        right_graph_area = Rectangle(width=5.5, height=6, color=GREY, fill_opacity=0).to_edge(RIGHT)\n",
    "        # Uncomment next lines if you want to see the separation visually\n",
    "        # self.add(left_text_area, right_graph_area)\n",
    "\n",
    "        # Axes for y = x^2 graph (shifted to the right)\n",
    "        axes = Axes(\n",
    "            x_range=[-7, 7, 1],\n",
    "            y_range=[-7, 7, 1],\n",
    "            x_length=5,\n",
    "            y_length=4,\n",
    "            axis_config={\"color\": WHITE},\n",
    "            tips=False\n",
    "        ).to_edge(RIGHT).shift(LEFT * 0.5)\n",
    "############################################################################################################################################################################################\n",
    "\n",
    "\n",
    "        # Define the function y = x^2\n",
    "        graph = axes.plot(lambda x: x**2, color=YELLOW)\n",
    "        graph_label = axes.get_graph_label(graph, label=\"y = x^2\", x_val=2.2, direction=UR)\n",
    "\n",
    "        # STEP 1: Title and introduction text\n",
    "        step1 = Text(\"Step 1: Understand the function\", font_size=32, color=BLUE).to_edge(LEFT).shift(UP * 2)\n",
    "        expl1 = Text(\"The function y = x² is of degree two \\nso it represents a parabola\", font_size=28).next_to(step1, DOWN, aligned_edge=LEFT)\n",
    "\n",
    "        self.play(Write(step1))\n",
    "        self.play(Write(expl1))\n",
    "        self.wait(2)\n",
    "\n",
    "        # Draw axes show graph of parabola could be among these.\n",
    "        step2 = Text(\"parabola could be among these\", font_size=28).next_to(expl1, DOWN, buff=0.8, aligned_edge=LEFT)\n",
    "        self.play(Write(step2))\n",
    "        self.play(Create(axes))\n",
    "        self.play(Create(graph), run_time=3)\n",
    "        self.play(Write(graph_label))\n",
    "        # Shift the curve right by 1 unit and up by 2 units within the axes coordinate system\n",
    "        shift_vector = axes.c2p(1, 2) - axes.c2p(0, 0)\n",
    "        self.play(graph.animate.shift(shift_vector))\n",
    "\n",
    "        shift_vector = axes.c2p(-3, -4) - axes.c2p(1, 2)\n",
    "        self.play(graph.animate.shift(shift_vector))\n",
    "\n",
    "        shift_vector = axes.c2p(-3, 5) - axes.c2p(-3, -4)\n",
    "        self.play(graph.animate.shift(shift_vector))\n",
    "\n",
    "        shift_vector = axes.c2p(2, -2) - axes.c2p(-3, 5)\n",
    "        self.play(graph.animate.shift(shift_vector))\n",
    "\n",
    "   \n",
    "\n",
    "        # Stretch horizontally(making wider) and rotate around point (2,-2)\n",
    "        self.play(graph.animate.stretch(2, dim=0))  # dim=0 means x-direction\n",
    "        self.play(graph.animate.rotate(PI, about_point=axes.c2p(2,-2)), run_time=3)\n",
    "\n",
    "        shift_vector = axes.c2p(0, 0) - axes.c2p(2, -2)\n",
    "        self.play(graph.animate.shift(shift_vector))\n",
    "\n",
    "\n",
    "\n",
    "        # Rotate around the origin of the AXES (not the screen)\n",
    "        self.play(graph.animate.rotate(PI/2, about_point=axes.c2p(0, 0)), run_time=2)\n",
    "\n",
    "        # Vertical line at x = 2, extend far above and below\n",
    "        x_val = 2\n",
    "        vertical_line = Line(\n",
    "            start=axes.c2p(x_val, -1000),  # very low y\n",
    "            end=axes.c2p(x_val, 1000),     # very high y\n",
    "            color=BLUE\n",
    "        )\n",
    "\n",
    "\n",
    "        # Draw the vertical line\n",
    "        self.play(Create(vertical_line))\n",
    "\n",
    "        # Intersection point\n",
    "        x_int, y_int = 2, 2**2\n",
    "        intersection_point = axes.c2p(x_int, y_int)\n",
    "\n",
    "        # Draw a cross at intersection\n",
    "        cross = Cross(intersection_point, color=RED, stroke_width=4)\n",
    "        self.play(Create(cross))\n",
    "        self.wait(2)\n",
    "\n",
    "      \n",
    "\n",
    "     \n",
    "\n",
    "        # # STEP 3: Plot some key points\n",
    "        # step3 = Text(\"Step 3: Mark some points\", font_size=32, color=BLUE).next_to(step2, DOWN, buff=0.8, aligned_edge=LEFT)\n",
    "        # expl3 = Text(\"For x = -2, -1, 0, 1, 2,\\nwe get y = 4, 1, 0, 1, 4.\", font_size=28).next_to(step3, DOWN, aligned_edge=LEFT)\n",
    "        # self.play(Write(step3))\n",
    "        # self.play(Write(expl3))\n",
    "        # self.wait(1)\n",
    "\n",
    "        # # Mark key points on the curve\n",
    "        # points = [axes.coords_to_point(x, x**2) for x in [-2, -1, 0, 1, 2]]\n",
    "        # dots = VGroup(*[Dot(p, color=RED) for p in points])\n",
    "        # self.play(LaggedStart(*[GrowFromCenter(dot) for dot in dots], lag_ratio=0.2))\n",
    "        # self.wait(1)\n",
    "\n",
    "        # # STEP 4: Connect the dots with a smooth curve\n",
    "        # step4 = Text(\"Step 4: Connect the points smoothly\", font_size=32, color=BLUE).next_to(expl3, DOWN, buff=0.8, aligned_edge=LEFT)\n",
    "        # self.play(Write(step4))\n",
    "        # self.play(Create(graph), run_time=3)\n",
    "        # self.wait(1)\n",
    "\n",
    "        # # STEP 5: Label the curve\n",
    "        # step5 = Text(\"Step 5: Label your graph\", font_size=32, color=BLUE).next_to(step4, DOWN, buff=0.8, aligned_edge=LEFT)\n",
    "        # self.play(Write(step5))\n",
    "        # self.play(Write(graph_label))\n",
    "        # self.wait(2)\n",
    "\n",
    "        # # End note\n",
    "        # end_text = Text(\"That's how you sketch y = x²!\", font_size=36, color=YELLOW).to_edge(LEFT).shift(DOWN * 2.5)\n",
    "        # self.play(Write(end_text))\n",
    "        # self.wait(3)\n"
   ]
  },
  {
   "cell_type": "code",
   "execution_count": null,
   "id": "0a546b10",
   "metadata": {},
   "outputs": [],
   "source": []
  },
  {
   "cell_type": "code",
   "execution_count": null,
   "id": "54923b3d",
   "metadata": {},
   "outputs": [],
   "source": []
  },
  {
   "cell_type": "code",
   "execution_count": null,
   "id": "cc327370",
   "metadata": {},
   "outputs": [],
   "source": []
  },
  {
   "cell_type": "code",
   "execution_count": null,
   "id": "b41b0c7a",
   "metadata": {},
   "outputs": [],
   "source": []
  },
  {
   "cell_type": "code",
   "execution_count": null,
   "id": "d15dfeca",
   "metadata": {},
   "outputs": [],
   "source": []
  }
 ],
 "metadata": {
  "kernelspec": {
   "display_name": "base",
   "language": "python",
   "name": "python3"
  },
  "language_info": {
   "codemirror_mode": {
    "name": "ipython",
    "version": 3
   },
   "file_extension": ".py",
   "mimetype": "text/x-python",
   "name": "python",
   "nbconvert_exporter": "python",
   "pygments_lexer": "ipython3",
   "version": "3.11.5"
  }
 },
 "nbformat": 4,
 "nbformat_minor": 5
}
