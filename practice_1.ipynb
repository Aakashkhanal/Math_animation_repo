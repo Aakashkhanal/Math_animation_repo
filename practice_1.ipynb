{
 "cells": [
  {
   "cell_type": "code",
   "execution_count": 1,
   "id": "dd60b96a",
   "metadata": {},
   "outputs": [
    {
     "data": {
      "text/html": [
       "<pre style=\"white-space:pre;overflow-x:auto;line-height:normal;font-family:Menlo,'DejaVu Sans Mono',consolas,'Courier New',monospace\">Manim Community <span style=\"color: #008000; text-decoration-color: #008000\">v0.18.0</span>\n",
       "\n",
       "</pre>\n"
      ],
      "text/plain": [
       "Manim Community \u001b[32mv0.\u001b[0m\u001b[32m18.0\u001b[0m\n",
       "\n"
      ]
     },
     "metadata": {},
     "output_type": "display_data"
    }
   ],
   "source": [
    "from manim import *"
   ]
  },
  {
   "cell_type": "code",
   "execution_count": 2,
   "id": "618bc66b",
   "metadata": {},
   "outputs": [
    {
     "ename": "OSError",
     "evalue": "[Errno 30] Read-only file system: 'media'",
     "output_type": "error",
     "traceback": [
      "\u001b[0;31m---------------------------------------------------------------------------\u001b[0m",
      "\u001b[0;31mFileNotFoundError\u001b[0m                         Traceback (most recent call last)",
      "File \u001b[0;32m~/anaconda3/lib/python3.11/pathlib.py:1116\u001b[0m, in \u001b[0;36mPath.mkdir\u001b[0;34m(self, mode, parents, exist_ok)\u001b[0m\n\u001b[1;32m   1115\u001b[0m \u001b[38;5;28;01mtry\u001b[39;00m:\n\u001b[0;32m-> 1116\u001b[0m     os\u001b[38;5;241m.\u001b[39mmkdir(\u001b[38;5;28mself\u001b[39m, mode)\n\u001b[1;32m   1117\u001b[0m \u001b[38;5;28;01mexcept\u001b[39;00m \u001b[38;5;167;01mFileNotFoundError\u001b[39;00m:\n",
      "\u001b[0;31mFileNotFoundError\u001b[0m: [Errno 2] No such file or directory: 'media/images'",
      "\nDuring handling of the above exception, another exception occurred:\n",
      "\u001b[0;31mOSError\u001b[0m                                   Traceback (most recent call last)",
      "Cell \u001b[0;32mIn[2], line 1\u001b[0m\n\u001b[0;32m----> 1\u001b[0m get_ipython()\u001b[38;5;241m.\u001b[39mrun_cell_magic(\u001b[38;5;124m'\u001b[39m\u001b[38;5;124mmanim\u001b[39m\u001b[38;5;124m'\u001b[39m, \u001b[38;5;124m'\u001b[39m\u001b[38;5;124m-v WARNING -qm QuadraticEquation\u001b[39m\u001b[38;5;124m'\u001b[39m, \u001b[38;5;124m'\u001b[39m\u001b[38;5;130;01m\\n\u001b[39;00m\u001b[38;5;124mclass QuadraticEquation(Scene):\u001b[39m\u001b[38;5;130;01m\\n\u001b[39;00m\u001b[38;5;124m   def construct(self):\u001b[39m\u001b[38;5;130;01m\\n\u001b[39;00m\u001b[38;5;124m        # Create the quadratic equation\u001b[39m\u001b[38;5;130;01m\\n\u001b[39;00m\u001b[38;5;124m        quadratic_eq = MathTex(\u001b[39m\u001b[38;5;124m\"\u001b[39m\u001b[38;5;124max^2 + bx + c = 0\u001b[39m\u001b[38;5;124m\"\u001b[39m\u001b[38;5;124m)\u001b[39m\u001b[38;5;130;01m\\n\u001b[39;00m\u001b[38;5;124m        quadratic_eq.scale(1.5)\u001b[39m\u001b[38;5;130;01m\\n\u001b[39;00m\u001b[38;5;130;01m\\n\u001b[39;00m\u001b[38;5;124m        # Position the quadratic equation in the center\u001b[39m\u001b[38;5;130;01m\\n\u001b[39;00m\u001b[38;5;124m        quadratic_eq.move_to(ORIGIN)\u001b[39m\u001b[38;5;130;01m\\n\u001b[39;00m\u001b[38;5;124m        self.play(Write(quadratic_eq))\u001b[39m\u001b[38;5;130;01m\\n\u001b[39;00m\u001b[38;5;124m        self.wait(1)\u001b[39m\u001b[38;5;130;01m\\n\u001b[39;00m\u001b[38;5;130;01m\\n\u001b[39;00m\u001b[38;5;124m        # Move the quadratic equation to the top-left corner\u001b[39m\u001b[38;5;130;01m\\n\u001b[39;00m\u001b[38;5;124m        top_left = [-4, 3, 0]  # Top-left corner coordinates\u001b[39m\u001b[38;5;130;01m\\n\u001b[39;00m\u001b[38;5;124m        self.play(quadratic_eq.animate.move_to(top_left))\u001b[39m\u001b[38;5;130;01m\\n\u001b[39;00m\u001b[38;5;124m        self.wait(1)\u001b[39m\u001b[38;5;130;01m\\n\u001b[39;00m\u001b[38;5;130;01m\\n\u001b[39;00m\u001b[38;5;124m        # Create two roots of the quadratic equation\u001b[39m\u001b[38;5;130;01m\\n\u001b[39;00m\u001b[38;5;124m        root1 = MathTex(\u001b[39m\u001b[38;5;124m\"\u001b[39m\u001b[38;5;124mx_1 = \u001b[39m\u001b[38;5;130;01m\\\\\u001b[39;00m\u001b[38;5;130;01m\\\\\u001b[39;00m\u001b[38;5;124mfrac\u001b[39m\u001b[38;5;124m{\u001b[39m\u001b[38;5;124m-b + \u001b[39m\u001b[38;5;130;01m\\\\\u001b[39;00m\u001b[38;5;130;01m\\\\\u001b[39;00m\u001b[38;5;124msqrt\u001b[39m\u001b[38;5;124m{\u001b[39m\u001b[38;5;124mb^2 - 4ac}}\u001b[39m\u001b[38;5;132;01m{2a}\u001b[39;00m\u001b[38;5;124m\"\u001b[39m\u001b[38;5;124m)\u001b[39m\u001b[38;5;130;01m\\n\u001b[39;00m\u001b[38;5;124m        root2 = MathTex(\u001b[39m\u001b[38;5;124m\"\u001b[39m\u001b[38;5;124mx_2 = \u001b[39m\u001b[38;5;130;01m\\\\\u001b[39;00m\u001b[38;5;130;01m\\\\\u001b[39;00m\u001b[38;5;124mfrac\u001b[39m\u001b[38;5;124m{\u001b[39m\u001b[38;5;124m-b - \u001b[39m\u001b[38;5;130;01m\\\\\u001b[39;00m\u001b[38;5;130;01m\\\\\u001b[39;00m\u001b[38;5;124msqrt\u001b[39m\u001b[38;5;124m{\u001b[39m\u001b[38;5;124mb^2 - 4ac}}\u001b[39m\u001b[38;5;132;01m{2a}\u001b[39;00m\u001b[38;5;124m\"\u001b[39m\u001b[38;5;124m)\u001b[39m\u001b[38;5;130;01m\\n\u001b[39;00m\u001b[38;5;124m        \u001b[39m\u001b[38;5;130;01m\\n\u001b[39;00m\u001b[38;5;124m        # Position the roots\u001b[39m\u001b[38;5;130;01m\\n\u001b[39;00m\u001b[38;5;124m        root1.move_to([2, 1, 0])  # Right part for first root\u001b[39m\u001b[38;5;130;01m\\n\u001b[39;00m\u001b[38;5;124m        root2.move_to([2, -1, 0])  # Right part for second root\u001b[39m\u001b[38;5;130;01m\\n\u001b[39;00m\u001b[38;5;130;01m\\n\u001b[39;00m\u001b[38;5;124m        # Create a single line going out from the center of the equation\u001b[39m\u001b[38;5;130;01m\\n\u001b[39;00m\u001b[38;5;124m        middle_line = Line(start=quadratic_eq.get_right(), end=[1, 0, 0])\u001b[39m\u001b[38;5;130;01m\\n\u001b[39;00m\u001b[38;5;124m        \u001b[39m\u001b[38;5;130;01m\\n\u001b[39;00m\u001b[38;5;124m        # Create two branching lines going to the two roots\u001b[39m\u001b[38;5;130;01m\\n\u001b[39;00m\u001b[38;5;124m        branch_line1 = Line(start=[1, 0, 0], end=root1.get_left())\u001b[39m\u001b[38;5;130;01m\\n\u001b[39;00m\u001b[38;5;124m        branch_line2 = Line(start=[1, 0, 0], end=root2.get_left())\u001b[39m\u001b[38;5;130;01m\\n\u001b[39;00m\u001b[38;5;130;01m\\n\u001b[39;00m\u001b[38;5;124m        # Draw the middle line first\u001b[39m\u001b[38;5;130;01m\\n\u001b[39;00m\u001b[38;5;124m        self.play(Create(middle_line))\u001b[39m\u001b[38;5;130;01m\\n\u001b[39;00m\u001b[38;5;124m        self.wait(0.5)\u001b[39m\u001b[38;5;130;01m\\n\u001b[39;00m\u001b[38;5;130;01m\\n\u001b[39;00m\u001b[38;5;124m        # Draw the two branches\u001b[39m\u001b[38;5;130;01m\\n\u001b[39;00m\u001b[38;5;124m        self.play(Create(branch_line1), Create(branch_line2))\u001b[39m\u001b[38;5;130;01m\\n\u001b[39;00m\u001b[38;5;124m        self.wait(1)\u001b[39m\u001b[38;5;130;01m\\n\u001b[39;00m\u001b[38;5;130;01m\\n\u001b[39;00m\u001b[38;5;124m        # Display the roots at the end of the branches\u001b[39m\u001b[38;5;130;01m\\n\u001b[39;00m\u001b[38;5;124m        self.play(Write(root1), Write(root2))\u001b[39m\u001b[38;5;130;01m\\n\u001b[39;00m\u001b[38;5;124m        self.wait(2)\u001b[39m\u001b[38;5;130;01m\\n\u001b[39;00m\u001b[38;5;124m'\u001b[39m)\n",
      "File \u001b[0;32m~/anaconda3/lib/python3.11/site-packages/IPython/core/interactiveshell.py:2493\u001b[0m, in \u001b[0;36mInteractiveShell.run_cell_magic\u001b[0;34m(self, magic_name, line, cell)\u001b[0m\n\u001b[1;32m   2491\u001b[0m \u001b[38;5;28;01mwith\u001b[39;00m \u001b[38;5;28mself\u001b[39m\u001b[38;5;241m.\u001b[39mbuiltin_trap:\n\u001b[1;32m   2492\u001b[0m     args \u001b[38;5;241m=\u001b[39m (magic_arg_s, cell)\n\u001b[0;32m-> 2493\u001b[0m     result \u001b[38;5;241m=\u001b[39m fn(\u001b[38;5;241m*\u001b[39margs, \u001b[38;5;241m*\u001b[39m\u001b[38;5;241m*\u001b[39mkwargs)\n\u001b[1;32m   2495\u001b[0m \u001b[38;5;66;03m# The code below prevents the output from being displayed\u001b[39;00m\n\u001b[1;32m   2496\u001b[0m \u001b[38;5;66;03m# when using magics with decorator @output_can_be_silenced\u001b[39;00m\n\u001b[1;32m   2497\u001b[0m \u001b[38;5;66;03m# when the last Python token in the expression is a ';'.\u001b[39;00m\n\u001b[1;32m   2498\u001b[0m \u001b[38;5;28;01mif\u001b[39;00m \u001b[38;5;28mgetattr\u001b[39m(fn, magic\u001b[38;5;241m.\u001b[39mMAGIC_OUTPUT_CAN_BE_SILENCED, \u001b[38;5;28;01mFalse\u001b[39;00m):\n",
      "File \u001b[0;32m~/anaconda3/lib/python3.11/site-packages/manim/utils/ipython_magic.py:140\u001b[0m, in \u001b[0;36mManimMagic.manim\u001b[0;34m(self, line, cell, local_ns)\u001b[0m\n\u001b[1;32m    138\u001b[0m \u001b[38;5;28;01mtry\u001b[39;00m:\n\u001b[1;32m    139\u001b[0m     SceneClass \u001b[38;5;241m=\u001b[39m local_ns[config[\u001b[38;5;124m\"\u001b[39m\u001b[38;5;124mscene_names\u001b[39m\u001b[38;5;124m\"\u001b[39m][\u001b[38;5;241m0\u001b[39m]]\n\u001b[0;32m--> 140\u001b[0m     scene \u001b[38;5;241m=\u001b[39m SceneClass(renderer\u001b[38;5;241m=\u001b[39mrenderer)\n\u001b[1;32m    141\u001b[0m     scene\u001b[38;5;241m.\u001b[39mrender()\n\u001b[1;32m    142\u001b[0m \u001b[38;5;28;01mfinally\u001b[39;00m:\n\u001b[1;32m    143\u001b[0m     \u001b[38;5;66;03m# Shader cache becomes invalid as the context is destroyed\u001b[39;00m\n",
      "File \u001b[0;32m~/anaconda3/lib/python3.11/site-packages/manim/scene/scene.py:141\u001b[0m, in \u001b[0;36mScene.__init__\u001b[0;34m(self, renderer, camera_class, always_update_mobjects, random_seed, skip_animations)\u001b[0m\n\u001b[1;32m    139\u001b[0m \u001b[38;5;28;01melse\u001b[39;00m:\n\u001b[1;32m    140\u001b[0m     \u001b[38;5;28mself\u001b[39m\u001b[38;5;241m.\u001b[39mrenderer \u001b[38;5;241m=\u001b[39m renderer\n\u001b[0;32m--> 141\u001b[0m \u001b[38;5;28mself\u001b[39m\u001b[38;5;241m.\u001b[39mrenderer\u001b[38;5;241m.\u001b[39minit_scene(\u001b[38;5;28mself\u001b[39m)\n\u001b[1;32m    143\u001b[0m \u001b[38;5;28mself\u001b[39m\u001b[38;5;241m.\u001b[39mmobjects \u001b[38;5;241m=\u001b[39m []\n\u001b[1;32m    144\u001b[0m \u001b[38;5;66;03m# TODO, remove need for foreground mobjects\u001b[39;00m\n",
      "File \u001b[0;32m~/anaconda3/lib/python3.11/site-packages/manim/renderer/cairo_renderer.py:49\u001b[0m, in \u001b[0;36mCairoRenderer.init_scene\u001b[0;34m(self, scene)\u001b[0m\n\u001b[1;32m     48\u001b[0m \u001b[38;5;28;01mdef\u001b[39;00m \u001b[38;5;21minit_scene\u001b[39m(\u001b[38;5;28mself\u001b[39m, scene):\n\u001b[0;32m---> 49\u001b[0m     \u001b[38;5;28mself\u001b[39m\u001b[38;5;241m.\u001b[39mfile_writer: Any \u001b[38;5;241m=\u001b[39m \u001b[38;5;28mself\u001b[39m\u001b[38;5;241m.\u001b[39m_file_writer_class(\n\u001b[1;32m     50\u001b[0m         \u001b[38;5;28mself\u001b[39m,\n\u001b[1;32m     51\u001b[0m         scene\u001b[38;5;241m.\u001b[39m\u001b[38;5;18m__class__\u001b[39m\u001b[38;5;241m.\u001b[39m\u001b[38;5;18m__name__\u001b[39m,\n\u001b[1;32m     52\u001b[0m     )\n",
      "File \u001b[0;32m~/anaconda3/lib/python3.11/site-packages/manim/scene/scene_file_writer.py:75\u001b[0m, in \u001b[0;36mSceneFileWriter.__init__\u001b[0;34m(self, renderer, scene_name, **kwargs)\u001b[0m\n\u001b[1;32m     73\u001b[0m \u001b[38;5;28;01mdef\u001b[39;00m \u001b[38;5;21m__init__\u001b[39m(\u001b[38;5;28mself\u001b[39m, renderer, scene_name, \u001b[38;5;241m*\u001b[39m\u001b[38;5;241m*\u001b[39mkwargs):\n\u001b[1;32m     74\u001b[0m     \u001b[38;5;28mself\u001b[39m\u001b[38;5;241m.\u001b[39mrenderer \u001b[38;5;241m=\u001b[39m renderer\n\u001b[0;32m---> 75\u001b[0m     \u001b[38;5;28mself\u001b[39m\u001b[38;5;241m.\u001b[39minit_output_directories(scene_name)\n\u001b[1;32m     76\u001b[0m     \u001b[38;5;28mself\u001b[39m\u001b[38;5;241m.\u001b[39minit_audio()\n\u001b[1;32m     77\u001b[0m     \u001b[38;5;28mself\u001b[39m\u001b[38;5;241m.\u001b[39mframe_count \u001b[38;5;241m=\u001b[39m \u001b[38;5;241m0\u001b[39m\n",
      "File \u001b[0;32m~/anaconda3/lib/python3.11/site-packages/manim/scene/scene_file_writer.py:121\u001b[0m, in \u001b[0;36mSceneFileWriter.init_output_directories\u001b[0;34m(self, scene_name)\u001b[0m\n\u001b[1;32m    118\u001b[0m     \u001b[38;5;28mself\u001b[39m\u001b[38;5;241m.\u001b[39moutput_name \u001b[38;5;241m=\u001b[39m Path(scene_name)\n\u001b[1;32m    120\u001b[0m \u001b[38;5;28;01mif\u001b[39;00m config[\u001b[38;5;124m\"\u001b[39m\u001b[38;5;124mmedia_dir\u001b[39m\u001b[38;5;124m\"\u001b[39m]:\n\u001b[0;32m--> 121\u001b[0m     image_dir \u001b[38;5;241m=\u001b[39m guarantee_existence(\n\u001b[1;32m    122\u001b[0m         config\u001b[38;5;241m.\u001b[39mget_dir(\n\u001b[1;32m    123\u001b[0m             \u001b[38;5;124m\"\u001b[39m\u001b[38;5;124mimages_dir\u001b[39m\u001b[38;5;124m\"\u001b[39m, module_name\u001b[38;5;241m=\u001b[39mmodule_name, scene_name\u001b[38;5;241m=\u001b[39mscene_name\n\u001b[1;32m    124\u001b[0m         ),\n\u001b[1;32m    125\u001b[0m     )\n\u001b[1;32m    126\u001b[0m     \u001b[38;5;28mself\u001b[39m\u001b[38;5;241m.\u001b[39mimage_file_path \u001b[38;5;241m=\u001b[39m image_dir \u001b[38;5;241m/\u001b[39m add_extension_if_not_present(\n\u001b[1;32m    127\u001b[0m         \u001b[38;5;28mself\u001b[39m\u001b[38;5;241m.\u001b[39moutput_name, \u001b[38;5;124m\"\u001b[39m\u001b[38;5;124m.png\u001b[39m\u001b[38;5;124m\"\u001b[39m\n\u001b[1;32m    128\u001b[0m     )\n\u001b[1;32m    130\u001b[0m \u001b[38;5;28;01mif\u001b[39;00m write_to_movie():\n",
      "File \u001b[0;32m~/anaconda3/lib/python3.11/site-packages/manim/utils/file_ops.py:150\u001b[0m, in \u001b[0;36mguarantee_existence\u001b[0;34m(path)\u001b[0m\n\u001b[1;32m    148\u001b[0m \u001b[38;5;28;01mdef\u001b[39;00m \u001b[38;5;21mguarantee_existence\u001b[39m(path: Path) \u001b[38;5;241m-\u001b[39m\u001b[38;5;241m>\u001b[39m Path:\n\u001b[1;32m    149\u001b[0m     \u001b[38;5;28;01mif\u001b[39;00m \u001b[38;5;129;01mnot\u001b[39;00m path\u001b[38;5;241m.\u001b[39mexists():\n\u001b[0;32m--> 150\u001b[0m         path\u001b[38;5;241m.\u001b[39mmkdir(parents\u001b[38;5;241m=\u001b[39m\u001b[38;5;28;01mTrue\u001b[39;00m)\n\u001b[1;32m    151\u001b[0m     \u001b[38;5;28;01mreturn\u001b[39;00m path\u001b[38;5;241m.\u001b[39mresolve(strict\u001b[38;5;241m=\u001b[39m\u001b[38;5;28;01mTrue\u001b[39;00m)\n",
      "File \u001b[0;32m~/anaconda3/lib/python3.11/pathlib.py:1120\u001b[0m, in \u001b[0;36mPath.mkdir\u001b[0;34m(self, mode, parents, exist_ok)\u001b[0m\n\u001b[1;32m   1118\u001b[0m     \u001b[38;5;28;01mif\u001b[39;00m \u001b[38;5;129;01mnot\u001b[39;00m parents \u001b[38;5;129;01mor\u001b[39;00m \u001b[38;5;28mself\u001b[39m\u001b[38;5;241m.\u001b[39mparent \u001b[38;5;241m==\u001b[39m \u001b[38;5;28mself\u001b[39m:\n\u001b[1;32m   1119\u001b[0m         \u001b[38;5;28;01mraise\u001b[39;00m\n\u001b[0;32m-> 1120\u001b[0m     \u001b[38;5;28mself\u001b[39m\u001b[38;5;241m.\u001b[39mparent\u001b[38;5;241m.\u001b[39mmkdir(parents\u001b[38;5;241m=\u001b[39m\u001b[38;5;28;01mTrue\u001b[39;00m, exist_ok\u001b[38;5;241m=\u001b[39m\u001b[38;5;28;01mTrue\u001b[39;00m)\n\u001b[1;32m   1121\u001b[0m     \u001b[38;5;28mself\u001b[39m\u001b[38;5;241m.\u001b[39mmkdir(mode, parents\u001b[38;5;241m=\u001b[39m\u001b[38;5;28;01mFalse\u001b[39;00m, exist_ok\u001b[38;5;241m=\u001b[39mexist_ok)\n\u001b[1;32m   1122\u001b[0m \u001b[38;5;28;01mexcept\u001b[39;00m \u001b[38;5;167;01mOSError\u001b[39;00m:\n\u001b[1;32m   1123\u001b[0m     \u001b[38;5;66;03m# Cannot rely on checking for EEXIST, since the operating system\u001b[39;00m\n\u001b[1;32m   1124\u001b[0m     \u001b[38;5;66;03m# could give priority to other errors like EACCES or EROFS\u001b[39;00m\n",
      "File \u001b[0;32m~/anaconda3/lib/python3.11/pathlib.py:1116\u001b[0m, in \u001b[0;36mPath.mkdir\u001b[0;34m(self, mode, parents, exist_ok)\u001b[0m\n\u001b[1;32m   1112\u001b[0m \u001b[38;5;250m\u001b[39m\u001b[38;5;124;03m\"\"\"\u001b[39;00m\n\u001b[1;32m   1113\u001b[0m \u001b[38;5;124;03mCreate a new directory at this given path.\u001b[39;00m\n\u001b[1;32m   1114\u001b[0m \u001b[38;5;124;03m\"\"\"\u001b[39;00m\n\u001b[1;32m   1115\u001b[0m \u001b[38;5;28;01mtry\u001b[39;00m:\n\u001b[0;32m-> 1116\u001b[0m     os\u001b[38;5;241m.\u001b[39mmkdir(\u001b[38;5;28mself\u001b[39m, mode)\n\u001b[1;32m   1117\u001b[0m \u001b[38;5;28;01mexcept\u001b[39;00m \u001b[38;5;167;01mFileNotFoundError\u001b[39;00m:\n\u001b[1;32m   1118\u001b[0m     \u001b[38;5;28;01mif\u001b[39;00m \u001b[38;5;129;01mnot\u001b[39;00m parents \u001b[38;5;129;01mor\u001b[39;00m \u001b[38;5;28mself\u001b[39m\u001b[38;5;241m.\u001b[39mparent \u001b[38;5;241m==\u001b[39m \u001b[38;5;28mself\u001b[39m:\n",
      "\u001b[0;31mOSError\u001b[0m: [Errno 30] Read-only file system: 'media'"
     ]
    }
   ],
   "source": [
    "%%manim -v WARNING -qm QuadraticEquation\n",
    "\n",
    "class QuadraticEquation(Scene):\n",
    "   def construct(self):\n",
    "        # Create the quadratic equation\n",
    "        quadratic_eq = MathTex(\"ax^2 + bx + c = 0\")\n",
    "        quadratic_eq.scale(1.5)\n",
    "\n",
    "        # Position the quadratic equation in the center\n",
    "        quadratic_eq.move_to(ORIGIN)\n",
    "        self.play(Write(quadratic_eq))\n",
    "        self.wait(1)\n",
    "\n",
    "        # Move the quadratic equation to the top-left corner\n",
    "        top_left = [-4, 3, 0]  # Top-left corner coordinates\n",
    "        self.play(quadratic_eq.animate.move_to(top_left))\n",
    "        self.wait(1)\n",
    "\n",
    "        # Create two roots of the quadratic equation\n",
    "        root1 = MathTex(\"x_1 = \\\\frac{-b + \\\\sqrt{b^2 - 4ac}}{2a}\")\n",
    "        root2 = MathTex(\"x_2 = \\\\frac{-b - \\\\sqrt{b^2 - 4ac}}{2a}\")\n",
    "        \n",
    "        # Position the roots\n",
    "        root1.move_to([2, 1, 0])  # Right part for first root\n",
    "        root2.move_to([2, -1, 0])  # Right part for second root\n",
    "\n",
    "        # Create a single line going out from the center of the equation\n",
    "        middle_line = Line(start=quadratic_eq.get_right(), end=[1, 0, 0])\n",
    "        \n",
    "        # Create two branching lines going to the two roots\n",
    "        branch_line1 = Line(start=[1, 0, 0], end=root1.get_left())\n",
    "        branch_line2 = Line(start=[1, 0, 0], end=root2.get_left())\n",
    "\n",
    "        # Draw the middle line first\n",
    "        self.play(Create(middle_line))\n",
    "        self.wait(0.5)\n",
    "\n",
    "        # Draw the two branches\n",
    "        self.play(Create(branch_line1), Create(branch_line2))\n",
    "        self.wait(1)\n",
    "\n",
    "        # Display the roots at the end of the branches\n",
    "        self.play(Write(root1), Write(root2))\n",
    "        self.wait(2)"
   ]
  }
 ],
 "metadata": {
  "kernelspec": {
   "display_name": "base",
   "language": "python",
   "name": "python3"
  },
  "language_info": {
   "codemirror_mode": {
    "name": "ipython",
    "version": 3
   },
   "file_extension": ".py",
   "mimetype": "text/x-python",
   "name": "python",
   "nbconvert_exporter": "python",
   "pygments_lexer": "ipython3",
   "version": "3.11.5"
  }
 },
 "nbformat": 4,
 "nbformat_minor": 5
}
