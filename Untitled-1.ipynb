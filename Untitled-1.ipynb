{
 "cells": [
  {
   "cell_type": "code",
   "execution_count": 16,
   "id": "52e16bb3",
   "metadata": {},
   "outputs": [
    {
     "data": {
      "text/html": [
       "<pre style=\"white-space:pre;overflow-x:auto;line-height:normal;font-family:Menlo,'DejaVu Sans Mono',consolas,'Courier New',monospace\">Manim Community <span style=\"color: #008000; text-decoration-color: #008000\">v0.18.0</span>\n",
       "\n",
       "</pre>\n"
      ],
      "text/plain": [
       "Manim Community \u001b[32mv0.\u001b[0m\u001b[32m18.0\u001b[0m\n",
       "\n"
      ]
     },
     "metadata": {},
     "output_type": "display_data"
    }
   ],
   "source": [
    "from manim import *"
   ]
  },
  {
   "cell_type": "code",
   "execution_count": 17,
   "id": "c3866d50",
   "metadata": {},
   "outputs": [
    {
     "name": "stderr",
     "output_type": "stream",
     "text": [
      "                                                                                                                     \r"
     ]
    },
    {
     "data": {
      "text/html": [
       "<video src=\"media/jupyter/LimitOfXOverX@2025-04-11@12-30-51.mp4\" controls autoplay loop style=\"max-width: 60%;\"  >\n",
       "      Your browser does not support the <code>video</code> element.\n",
       "    </video>"
      ],
      "text/plain": [
       "<IPython.core.display.Video object>"
      ]
     },
     "metadata": {},
     "output_type": "display_data"
    }
   ],
   "source": [
    "%%manim -v WARNING -qm LimitOfXOverX\n",
    "\n",
    "\n",
    "class LimitOfXOverX(Scene):\n",
    "    def construct(self):\n",
    "        # Axes setup\n",
    "        axes = Axes(\n",
    "            x_range=[-4, 4, 1],\n",
    "            y_range=[0, 2, 0.5],\n",
    "            x_length=8,\n",
    "            y_length=4,\n",
    "            axis_config={\"include_tip\": True}\n",
    "        )\n",
    "\n",
    "        # Function: f(x) = x/x (excluding 0)\n",
    "        def x_over_x(x):\n",
    "            return 1 if x != 0 else None\n",
    "\n",
    "        # Plot excluding x=0\n",
    "        graph = axes.plot(lambda x: x_over_x(x), color=BLUE, x_range=[-4, -0.1])\n",
    "        graph2 = axes.plot(lambda x: x_over_x(x), color=BLUE, x_range=[0.1, 4])\n",
    "\n",
    "        # Hole at x=0\n",
    "        hole = Dot(axes.c2p(0, 1), color=RED)\n",
    "\n",
    "        # Labels and titles\n",
    "        title = Text(\"Limit of f(x) = x/x as x → 0\", font_size=36).to_edge(UP)\n",
    "        func_label = MathTex(r\"f(x) = \\frac{x}{x}, \\quad x \\ne 0\").next_to(graph2, UP)\n",
    "        limit_text = MathTex(r\"\\lim_{x \\to 0} \\frac{x}{x} = 1\").to_edge(DOWN)\n",
    "\n",
    "        # Build the animation\n",
    "        self.play(Write(title))\n",
    "        self.play(Create(axes))\n",
    "        self.play(Create(graph), Create(graph2))\n",
    "        self.play(FadeIn(hole), run_time=1)\n",
    "        self.play(Write(func_label))\n",
    "        self.wait(1)\n",
    "\n",
    "        # Emphasize the hole\n",
    "        self.play(hole.animate.scale(1.5).set_color(YELLOW))\n",
    "        self.wait(1)\n",
    "\n",
    "        # Show the limit conclusion\n",
    "        self.play(Write(limit_text))\n",
    "        self.wait(2)\n"
   ]
  },
  {
   "cell_type": "code",
   "execution_count": null,
   "id": "17a694a7",
   "metadata": {},
   "outputs": [
    {
     "ename": "SyntaxError",
     "evalue": "invalid syntax (3964487582.py, line 1)",
     "output_type": "error",
     "traceback": [
      "\u001b[0;36m  Cell \u001b[0;32mIn[2], line 1\u001b[0;36m\u001b[0m\n\u001b[0;31m    manim -pql limit_scene.py LimitOfXOverX\u001b[0m\n\u001b[0m               ^\u001b[0m\n\u001b[0;31mSyntaxError\u001b[0m\u001b[0;31m:\u001b[0m invalid syntax\n"
     ]
    }
   ],
   "source": []
  }
 ],
 "metadata": {
  "kernelspec": {
   "display_name": "base",
   "language": "python",
   "name": "python3"
  },
  "language_info": {
   "codemirror_mode": {
    "name": "ipython",
    "version": 3
   },
   "file_extension": ".py",
   "mimetype": "text/x-python",
   "name": "python",
   "nbconvert_exporter": "python",
   "pygments_lexer": "ipython3",
   "version": "3.11.5"
  }
 },
 "nbformat": 4,
 "nbformat_minor": 5
}
